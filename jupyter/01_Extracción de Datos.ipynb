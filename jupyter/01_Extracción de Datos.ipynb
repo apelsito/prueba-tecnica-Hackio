{
 "cells": [
  {
   "cell_type": "code",
   "execution_count": 24,
   "metadata": {},
   "outputs": [],
   "source": [
    "# -----------------------------------------------------------------------\n",
    "# Librerías para manejo de datos\n",
    "# -----------------------------------------------------------------------\n",
    "import pandas as pd   # Manipulación de datos tabulares\n",
    "import numpy as np    # Operaciones numéricas y manejo de matrices\n",
    "import datetime       # Manejo de fechas y tiempos\n",
    "\n",
    "# -----------------------------------------------------------------------\n",
    "# Librerías para solicitudes HTTP y peticiones a APIs\n",
    "# -----------------------------------------------------------------------\n",
    "import requests       # Para hacer solicitudes HTTP (GET, POST, etc.)\n",
    "from time import sleep  # Para pausar la ejecución entre solicitudes\n",
    "import random         # Para generar números aleatorios (si se necesita algún tipo de aleatorización)\n",
    "\n",
    "# -----------------------------------------------------------------------\n",
    "# Librerías para visualización de progreso\n",
    "# -----------------------------------------------------------------------\n",
    "from tqdm import tqdm  # Para crear barras de progreso durante los bucles\n",
    "\n",
    "# -----------------------------------------------------------------------\n",
    "# Librerías para manejo de variables de entorno y tokens\n",
    "# -----------------------------------------------------------------------\n",
    "import os             # Para interactuar con el sistema de archivos\n",
    "import dotenv         # Para cargar variables de entorno desde un archivo .env\n",
    "dotenv.load_dotenv()  # Cargar las variables de entorno en el entorno de ejecución\n",
    "\n",
    "# -----------------------------------------------------------------------\n",
    "# Librerías para trabajar con archivos JSON\n",
    "# -----------------------------------------------------------------------\n",
    "import json           # Para leer y escribir datos en formato JSON\n",
    "\n",
    "import requests"
   ]
  },
  {
   "cell_type": "code",
   "execution_count": 25,
   "metadata": {},
   "outputs": [],
   "source": [
    "key = os.getenv(\"movies\")"
   ]
  },
  {
   "cell_type": "markdown",
   "metadata": {},
   "source": [
    "Drama, Comedy, Action, Fantasy, Horror, Mystery, Romance, Thriller"
   ]
  },
  {
   "cell_type": "code",
   "execution_count": null,
   "metadata": {},
   "outputs": [],
   "source": [
    "generos = [\"Drama\",\"Comedy\",\"Action\",\"Fantasy\",\"Horror\"]\n",
    "years = []\n",
    "# Generar lista de 1990 a 2024\n",
    "for i in range(1990,2025):\n",
    "    years.append(i)\n"
   ]
  },
  {
   "cell_type": "code",
   "execution_count": 79,
   "metadata": {},
   "outputs": [
    {
     "name": "stderr",
     "output_type": "stream",
     "text": [
      "100%|██████████| 35/35 [01:10<00:00,  2.02s/it]\n",
      "100%|██████████| 35/35 [01:05<00:00,  1.86s/it]\n",
      "100%|██████████| 35/35 [01:18<00:00,  2.24s/it]\n",
      "100%|██████████| 35/35 [01:10<00:00,  2.02s/it]\n",
      "100%|██████████| 35/35 [01:11<00:00,  2.04s/it]\n",
      " 54%|█████▍    | 19/35 [00:40<00:33,  2.12s/it]\n"
     ]
    },
    {
     "ename": "KeyError",
     "evalue": "'results'",
     "output_type": "error",
     "traceback": [
      "\u001b[1;31m---------------------------------------------------------------------------\u001b[0m",
      "\u001b[1;31mKeyError\u001b[0m                                  Traceback (most recent call last)",
      "Cell \u001b[1;32mIn[79], line 21\u001b[0m\n\u001b[0;32m     18\u001b[0m response \u001b[38;5;241m=\u001b[39m requests\u001b[38;5;241m.\u001b[39mget(url, headers\u001b[38;5;241m=\u001b[39mheaders, params\u001b[38;5;241m=\u001b[39mquerystring)\n\u001b[0;32m     20\u001b[0m to_json \u001b[38;5;241m=\u001b[39m response\u001b[38;5;241m.\u001b[39mjson()\n\u001b[1;32m---> 21\u001b[0m \u001b[38;5;28;01mfor\u001b[39;00m result \u001b[38;5;129;01min\u001b[39;00m \u001b[43mto_json\u001b[49m\u001b[43m[\u001b[49m\u001b[38;5;124;43m\"\u001b[39;49m\u001b[38;5;124;43mresults\u001b[39;49m\u001b[38;5;124;43m\"\u001b[39;49m\u001b[43m]\u001b[49m:\n\u001b[0;32m     22\u001b[0m     get_id \u001b[38;5;241m=\u001b[39m result[\u001b[38;5;124m\"\u001b[39m\u001b[38;5;124mid\u001b[39m\u001b[38;5;124m\"\u001b[39m]\n\u001b[0;32m     23\u001b[0m     \u001b[38;5;28mid\u001b[39m\u001b[38;5;241m.\u001b[39mappend(get_id)\n",
      "\u001b[1;31mKeyError\u001b[0m: 'results'"
     ]
    }
   ],
   "source": [
    "id = []\n",
    "id2 = []\n",
    "nombre = []\n",
    "tipo = []\n",
    "estreno = []\n",
    "for genero in generos:\n",
    "    for year in tqdm(years):\n",
    "        for page in range (1,6):\n",
    "            url = \"https://moviesdatabase.p.rapidapi.com/titles\"\n",
    "\n",
    "            querystring = {\"genre\":genero,\"year\":year,\"page\":page,\"limit\":\"50\"}\n",
    "\n",
    "            headers = {\n",
    "                \"x-rapidapi-key\": key,\n",
    "                \"x-rapidapi-host\": \"moviesdatabase.p.rapidapi.com\"\n",
    "            }\n",
    "\n",
    "            response = requests.get(url, headers=headers, params=querystring)\n",
    "\n",
    "            to_json = response.json()\n",
    "            for result in to_json[\"results\"]:\n",
    "                get_id = result[\"id\"]\n",
    "                id.append(get_id)\n",
    "                get_id2 = result[\"_id\"]\n",
    "                id2.append(get_id2)\n",
    "                get_nombre = result[\"originalTitleText\"][\"text\"]\n",
    "                nombre.append(get_nombre)\n",
    "                get_tipo = result[\"titleType\"][\"text\"]\n",
    "                tipo.append(get_tipo)\n",
    "                estreno_dict = result[\"releaseDate\"]\n",
    "                if estreno_dict == None:\n",
    "                    estreno.append(\"Desconocido\")\n",
    "                else:\n",
    "                    get_estreno = f'{estreno_dict.get(\"month\",\"Desconocido\")}-{estreno_dict.get(\"year\",\"Desconocido\")}'\n",
    "                    estreno.append(get_estreno)\n",
    "\n",
    "\n"
   ]
  },
  {
   "cell_type": "markdown",
   "metadata": {},
   "source": [
    "- Hechos: Drama\",\"Comedy\",\"Action\",\"Fantasy\",\"Horror\",\n",
    "- Por Hacer:\"Mystery\",\"Romance\",\"Thriller\"\n",
    "- Razon: Me he quedado sin llamadas en la API por hora"
   ]
  },
  {
   "cell_type": "markdown",
   "metadata": {},
   "source": [
    "# Añadir genero a los resultados\n",
    "- Por género son 8750 Resultados \n",
    "    - 5 páginas a 50 resultados = 250 resultados\n",
    "    - 250 resultados por 35 años = 8750 resultados por género\n",
    "\n",
    "Voy a Hacer una lista"
   ]
  },
  {
   "cell_type": "code",
   "execution_count": 85,
   "metadata": {},
   "outputs": [
    {
     "data": {
      "text/plain": [
       "48600"
      ]
     },
     "execution_count": 85,
     "metadata": {},
     "output_type": "execute_result"
    }
   ],
   "source": [
    "len(id)"
   ]
  },
  {
   "cell_type": "code",
   "execution_count": 96,
   "metadata": {},
   "outputs": [],
   "source": [
    "generos = []\n",
    "for i in range(0,48600):\n",
    "    if i < 8750:\n",
    "        generos.append(\"Drama\")\n",
    "    elif i >= 8750 and i < 17500:\n",
    "        generos.append(\"Comedy\")\n",
    "    elif i >= 17500 and i < 26250:\n",
    "        generos.append(\"Action\")\n",
    "    elif i >= 26250 and i < 35000:\n",
    "        generos.append(\"Fantasy\")\n",
    "    elif i >= 35000 and i < 43750:\n",
    "        generos.append(\"Horror\")\n",
    "    elif i >= 43750:\n",
    "        generos.append(\"Drop\")"
   ]
  },
  {
   "cell_type": "markdown",
   "metadata": {},
   "source": [
    "# Generamos el DataFrame"
   ]
  },
  {
   "cell_type": "markdown",
   "metadata": {},
   "source": [
    "Películas desde 1990 hasta la actualidad.\n",
    "Géneros: Drama, Comedy, Action, Fantasy, Horror, Mystery, Romance, Thriller.\n",
    "Información necesaria:\n",
    "- Tipo (corto o película).\n",
    "- Nombre.\n",
    "- Año y mes de estreno.\n",
    "- ID de la película."
   ]
  },
  {
   "cell_type": "code",
   "execution_count": 97,
   "metadata": {},
   "outputs": [
    {
     "data": {
      "text/plain": [
       "48600"
      ]
     },
     "execution_count": 97,
     "metadata": {},
     "output_type": "execute_result"
    }
   ],
   "source": [
    "len(generos)"
   ]
  },
  {
   "cell_type": "markdown",
   "metadata": {},
   "source": [
    "Genero el DF y Me quito los extras, que son unos que son un género incompleto"
   ]
  },
  {
   "cell_type": "code",
   "execution_count": 104,
   "metadata": {},
   "outputs": [],
   "source": [
    "df = pd.DataFrame({\n",
    "    \"id\": id,\n",
    "    \"id2\" : id2,\n",
    "    \"titulo\" : nombre,\n",
    "    \"genero\" : generos,\n",
    "    \"tipo\" : tipo,\n",
    "    \"estreno\" : estreno\n",
    "})\n",
    "df = df[df[\"genero\"]!= \"Drop\"]\n",
    "df.to_pickle(\"../datos/01_datos_pelis.pkl\")"
   ]
  },
  {
   "cell_type": "code",
   "execution_count": 105,
   "metadata": {},
   "outputs": [
    {
     "data": {
      "text/plain": [
       "43750"
      ]
     },
     "execution_count": 105,
     "metadata": {},
     "output_type": "execute_result"
    }
   ],
   "source": [
    "len(df)"
   ]
  },
  {
   "cell_type": "markdown",
   "metadata": {},
   "source": [
    "# Obtener los restantes"
   ]
  },
  {
   "cell_type": "code",
   "execution_count": 107,
   "metadata": {},
   "outputs": [
    {
     "name": "stderr",
     "output_type": "stream",
     "text": [
      "100%|██████████| 35/35 [01:18<00:00,  2.23s/it]\n",
      "100%|██████████| 35/35 [01:17<00:00,  2.21s/it]\n",
      "100%|██████████| 35/35 [01:15<00:00,  2.15s/it]\n"
     ]
    }
   ],
   "source": [
    "generos_restantes = [\"Mystery\",\"Romance\",\"Thriller\"]\n",
    "years = []\n",
    "# Generar lista de 1990 a 2024\n",
    "for i in range(1990,2025):\n",
    "    years.append(i)\n",
    "\n",
    "id = []\n",
    "id2 = []\n",
    "nombre = []\n",
    "tipo = []\n",
    "estreno = []\n",
    "generos = []\n",
    "for genero in generos_restantes:\n",
    "    for year in tqdm(years):\n",
    "        for page in range (1,6):\n",
    "            url = \"https://moviesdatabase.p.rapidapi.com/titles\"\n",
    "\n",
    "            querystring = {\"genre\":genero,\"year\":year,\"page\":page,\"limit\":\"50\"}\n",
    "\n",
    "            headers = {\n",
    "                \"x-rapidapi-key\": key,\n",
    "                \"x-rapidapi-host\": \"moviesdatabase.p.rapidapi.com\"\n",
    "            }\n",
    "\n",
    "            response = requests.get(url, headers=headers, params=querystring)\n",
    "\n",
    "            to_json = response.json()\n",
    "            for result in to_json[\"results\"]:\n",
    "                get_id = result[\"id\"]\n",
    "                id.append(get_id)\n",
    "                get_id2 = result[\"_id\"]\n",
    "                id2.append(get_id2)\n",
    "                get_nombre = result[\"originalTitleText\"][\"text\"]\n",
    "                nombre.append(get_nombre)\n",
    "                get_tipo = result[\"titleType\"][\"text\"]\n",
    "                tipo.append(get_tipo)\n",
    "                estreno_dict = result[\"releaseDate\"]\n",
    "                if estreno_dict == None:\n",
    "                    estreno.append(\"Desconocido\")\n",
    "                else:\n",
    "                    get_estreno = f'{estreno_dict.get(\"month\",\"Desconocido\")}-{estreno_dict.get(\"year\",\"Desconocido\")}'\n",
    "                    estreno.append(get_estreno)\n",
    "                \n",
    "                generos.append(genero)\n",
    "\n",
    "df_temp = pd.DataFrame({\n",
    "    \"id\": id,\n",
    "    \"id2\" : id2,\n",
    "    \"titulo\" : nombre,\n",
    "    \"genero\" : generos,\n",
    "    \"tipo\" : tipo,\n",
    "    \"estreno\" : estreno\n",
    "})"
   ]
  },
  {
   "cell_type": "markdown",
   "metadata": {},
   "source": [
    "# Unimos ambos DataFrames\n"
   ]
  },
  {
   "cell_type": "code",
   "execution_count": 114,
   "metadata": {},
   "outputs": [],
   "source": [
    "df_unir = pd.concat([df,df_temp],axis=0)\n",
    "df = df_unir.copy()"
   ]
  },
  {
   "cell_type": "code",
   "execution_count": 115,
   "metadata": {},
   "outputs": [
    {
     "data": {
      "text/plain": [
       "(70000, 6)"
      ]
     },
     "execution_count": 115,
     "metadata": {},
     "output_type": "execute_result"
    }
   ],
   "source": [
    "df.shape"
   ]
  },
  {
   "cell_type": "code",
   "execution_count": 116,
   "metadata": {},
   "outputs": [],
   "source": [
    "df.to_pickle(\"../datos/01_datos_pelis.pkl\")"
   ]
  },
  {
   "cell_type": "code",
   "execution_count": 118,
   "metadata": {},
   "outputs": [
    {
     "data": {
      "text/plain": [
       "genero\n",
       "Drama       8750\n",
       "Comedy      8750\n",
       "Action      8750\n",
       "Fantasy     8750\n",
       "Horror      8750\n",
       "Mystery     8750\n",
       "Romance     8750\n",
       "Thriller    8750\n",
       "Name: count, dtype: int64"
      ]
     },
     "execution_count": 118,
     "metadata": {},
     "output_type": "execute_result"
    }
   ],
   "source": [
    "df[\"genero\"].value_counts()"
   ]
  }
 ],
 "metadata": {
  "kernelspec": {
   "display_name": "Hackio-prueba-tecnica",
   "language": "python",
   "name": "python3"
  },
  "language_info": {
   "codemirror_mode": {
    "name": "ipython",
    "version": 3
   },
   "file_extension": ".py",
   "mimetype": "text/x-python",
   "name": "python",
   "nbconvert_exporter": "python",
   "pygments_lexer": "ipython3",
   "version": "3.11.9"
  }
 },
 "nbformat": 4,
 "nbformat_minor": 2
}
