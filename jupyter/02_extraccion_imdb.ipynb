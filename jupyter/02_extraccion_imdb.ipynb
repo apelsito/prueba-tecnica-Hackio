{
 "cells": [
  {
   "cell_type": "code",
   "execution_count": 2,
   "metadata": {},
   "outputs": [],
   "source": [
    "# Requests\n",
    "import requests\n",
    "\n",
    "import pandas as pd\n",
    "import numpy as np\n",
    "\n",
    "from time import sleep\n",
    "import random\n",
    "# Importar librerías para automatización de navegadores web con Selenium\n",
    "# -----------------------------------------------------------------------\n",
    "from selenium import webdriver  # Selenium es una herramienta para automatizar la interacción con navegadores web.\n",
    "from webdriver_manager.chrome import ChromeDriverManager  # ChromeDriverManager gestiona la instalación del controlador de Chrome.\n",
    "from selenium.webdriver.common.keys import Keys  # Keys es útil para simular eventos de teclado en Selenium.\n",
    "from selenium.webdriver.support.ui import Select  # Select se utiliza para interactuar con elementos <select> en páginas web.\n",
    "from selenium.webdriver.support.ui import WebDriverWait\n",
    "from selenium.webdriver.support import expected_conditions as EC\n",
    "from selenium.common.exceptions import NoSuchElementException # Excepciones comunes de selenium que nos podemos encontrar "
   ]
  },
  {
   "cell_type": "code",
   "execution_count": 111,
   "metadata": {},
   "outputs": [
    {
     "data": {
      "text/html": [
       "<div>\n",
       "<style scoped>\n",
       "    .dataframe tbody tr th:only-of-type {\n",
       "        vertical-align: middle;\n",
       "    }\n",
       "\n",
       "    .dataframe tbody tr th {\n",
       "        vertical-align: top;\n",
       "    }\n",
       "\n",
       "    .dataframe thead th {\n",
       "        text-align: right;\n",
       "    }\n",
       "</style>\n",
       "<table border=\"1\" class=\"dataframe\">\n",
       "  <thead>\n",
       "    <tr style=\"text-align: right;\">\n",
       "      <th></th>\n",
       "      <th>id</th>\n",
       "      <th>id2</th>\n",
       "      <th>titulo</th>\n",
       "      <th>genero</th>\n",
       "      <th>tipo</th>\n",
       "      <th>estreno</th>\n",
       "    </tr>\n",
       "  </thead>\n",
       "  <tbody>\n",
       "    <tr>\n",
       "      <th>41541</th>\n",
       "      <td>tt10255978</td>\n",
       "      <td>61e58cb3cffb8f2faa43f46b</td>\n",
       "      <td>Bhootkaal</td>\n",
       "      <td>Horror</td>\n",
       "      <td>Movie</td>\n",
       "      <td>12-2016</td>\n",
       "    </tr>\n",
       "  </tbody>\n",
       "</table>\n",
       "</div>"
      ],
      "text/plain": [
       "               id                       id2     titulo  genero   tipo  estreno\n",
       "41541  tt10255978  61e58cb3cffb8f2faa43f46b  Bhootkaal  Horror  Movie  12-2016"
      ]
     },
     "execution_count": 111,
     "metadata": {},
     "output_type": "execute_result"
    }
   ],
   "source": [
    "df = pd.read_pickle(\"../datos/01_datos_pelis.pkl\")\n",
    "df.sample()"
   ]
  },
  {
   "cell_type": "markdown",
   "metadata": {},
   "source": [
    "# Selenium\n",
    "- Usando el id en imdb obtendremos:\n",
    "    - Calificación de IMDB.\n",
    "    - Dirección (director o directores).\n",
    "    - Guionistas.\n",
    "    - Argumento.\n",
    "    - Duración (en minutos)."
   ]
  },
  {
   "cell_type": "code",
   "execution_count": 113,
   "metadata": {},
   "outputs": [
    {
     "name": "stdout",
     "output_type": "stream",
     "text": [
      "6,5/10\n",
      "Jürgen Böttcher\n",
      "\n",
      "\n"
     ]
    }
   ],
   "source": [
    "driver = webdriver.Chrome() #Para Abrir chrome solo ejecutar once\n",
    "url_imdb = f\"https://www.imdb.com/es-es/title/{id}/\"\n",
    "driver.get(url_imdb)\n",
    "#Maximizar ventana\n",
    "driver.maximize_window()\n",
    "sleep(0.5)\n",
    "# Click en cookies\n",
    "driver.find_element(\"css selector\",\"#__next > div > div > div.sc-jrcTuL.bPmWiM > div > button.icb-btn.sc-bcXHqe.sc-dkrFOg.sc-iBYQkv.dcvrLS.ddtuHe.dRCGjd\").click()\n",
    "# Obtener el Score de IMDB\n",
    "imdb_score = driver.find_element(\"css selector\",\"#__next > main > div > section.ipc-page-background.ipc-page-background--base.sc-afa4bed1-0.iMxoKo > section > div:nth-child(5) > section > section > div.sc-9a2a0028-3.bwWOiy > div.sc-3a4309f8-0.jJkxPn.sc-70a366cc-1.kUfGfN > div > div:nth-child(1) > a > span > div > div.sc-d541859f-0.hNIoIx > div.sc-d541859f-2.kxphVf\").text\n",
    "score = imdb_score.replace(\"\\n\",\"\")\n",
    "print(score)\n",
    "sleep(0.3) \n",
    "director = driver.find_element(\"css selector\",\"#__next > main > div > section.ipc-page-background.ipc-page-background--base.sc-afa4bed1-0.iMxoKo > section > div:nth-child(5) > section > section > div.sc-9a2a0028-4.eZLbYw > div.sc-9a2a0028-6.iMFgzR > div.sc-9a2a0028-10.dFokEJ > section > div.sc-70a366cc-3.iwmAOx > div > ul > li:nth-child(1) > div > ul > li\")\n",
    "print(director.text)\n",
    "sleep(0.3)\n",
    "total_guionistas = driver.find_elements(\"css selector\", \"#__next > main > div > section.ipc-page-background.ipc-page-background--base.sc-afa4bed1-0.iMxoKo > section > div:nth-child(5) > section > section > div.sc-9a2a0028-4.eZLbYw > div.sc-9a2a0028-6.iMFgzR > div.sc-9a2a0028-11.cDzRCX > div.sc-70a366cc-2.bscNnP > div > ul > li:nth-child(2) > div > ul > li\")\n",
    "total_guionistas\n",
    "for g in total_guionistas:\n",
    "    print(g.text)"
   ]
  },
  {
   "cell_type": "code",
   "execution_count": 110,
   "metadata": {},
   "outputs": [],
   "source": [
    "guionista[0].get_attribute(\"#text\")"
   ]
  },
  {
   "cell_type": "code",
   "execution_count": null,
   "metadata": {},
   "outputs": [],
   "source": [
    "texto = \"\"\n",
    "for item in guionista:\n",
    "    texto = texto + \", \" + item.text\n",
    "texto = texto.rstrip(\", \").lstrip(\", \")\n",
    "print(texto)"
   ]
  },
  {
   "cell_type": "code",
   "execution_count": 89,
   "metadata": {},
   "outputs": [
    {
     "name": "stdout",
     "output_type": "stream",
     "text": [
      "\n"
     ]
    }
   ],
   "source": [
    "scores = []\n",
    "directors = []\n",
    "guionistas = []\n",
    "for id in df[\"id\"]:\n",
    "    driver = webdriver.Chrome() #Para Abrir chrome solo ejecutar once\n",
    "    url_imdb = f\"https://www.imdb.com/es-es/title/{id}/\"\n",
    "    driver.get(url_imdb)\n",
    "    #Maximizar ventana\n",
    "    driver.maximize_window()\n",
    "    sleep(0.3)\n",
    "    # Click en cookies\n",
    "    driver.find_element(\"css selector\",\"#__next > div > div > div.sc-jrcTuL.bPmWiM > div > button.icb-btn.sc-bcXHqe.sc-dkrFOg.sc-iBYQkv.dcvrLS.ddtuHe.dRCGjd\").click()\n",
    "    # Obtener el Score de IMDB\n",
    "    imdb_score = driver.find_element(\"css selector\",\"#__next > main > div > section.ipc-page-background.ipc-page-background--base.sc-afa4bed1-0.iMxoKo > section > div:nth-child(5) > section > section > div.sc-9a2a0028-3.bwWOiy > div.sc-3a4309f8-0.jJkxPn.sc-70a366cc-1.kUfGfN > div > div:nth-child(1) > a > span > div > div.sc-d541859f-0.hNIoIx > div.sc-d541859f-2.kxphVf\").text\n",
    "    score = imdb_score.replace(\"\\n\",\"\")\n",
    "    scores.append(score)\n",
    "    sleep(0.3) \n",
    "    director = driver.find_element(\"css selector\",\"#__next > main > div > section.ipc-page-background.ipc-page-background--base.sc-afa4bed1-0.iMxoKo > section > div:nth-child(5) > section > section > div.sc-9a2a0028-4.eZLbYw > div.sc-9a2a0028-6.iMFgzR > div.sc-9a2a0028-10.dFokEJ > section > div.sc-70a366cc-3.iwmAOx > div > ul > li:nth-child(1) > div > ul > li\")\n",
    "    directors.append(director.text)\n",
    "    sleep(0.3)\n",
    "    total_guionistas = driver.find_element(\"css selector\", \"#__next > main > div > section.ipc-page-background.ipc-page-background--base.sc-afa4bed1-0.iMxoKo > section > div:nth-child(5) > section > section > div.sc-9a2a0028-4.eZLbYw > div.sc-9a2a0028-6.iMFgzR > div.sc-9a2a0028-11.cDzRCX > div.sc-70a366cc-2.bscNnP > div > ul > li:nth-child(2) > div > ul\")\n",
    "    guionista = total_guionistas.find_elements(\"css selector\",\"#__next > main > div > section.ipc-page-background.ipc-page-background--base.sc-afa4bed1-0.iMxoKo > section > div:nth-child(5) > section > section > div.sc-9a2a0028-4.eZLbYw > div.sc-9a2a0028-6.iMFgzR > div.sc-9a2a0028-11.cDzRCX > div.sc-70a366cc-2.bscNnP > div > ul > li:nth-child(2) > div > ul > li > a\")\n",
    "    texto = \"\"\n",
    "    for item in guionista:\n",
    "        texto = texto + \", \" + item.text\n",
    "\n",
    "    texto = texto.rstrip(\", \").lstrip(\", \")\n",
    "    print(texto)\n",
    "    break\n",
    "    "
   ]
  },
  {
   "cell_type": "code",
   "execution_count": 96,
   "metadata": {},
   "outputs": [
    {
     "data": {
      "text/plain": [
       "''"
      ]
     },
     "execution_count": 96,
     "metadata": {},
     "output_type": "execute_result"
    }
   ],
   "source": [
    "director.text"
   ]
  },
  {
   "cell_type": "code",
   "execution_count": 80,
   "metadata": {},
   "outputs": [
    {
     "data": {
      "text/plain": [
       "[<selenium.webdriver.remote.webelement.WebElement (session=\"1b34e2358ffd9ce502947be95ad4268b\", element=\"f.5F1219E50C14FE963A5C8CD9B2B8040F.d.F6D7EC24992471CC177ECF1D3AD4B8E3.e.117\")>,\n",
       " <selenium.webdriver.remote.webelement.WebElement (session=\"1b34e2358ffd9ce502947be95ad4268b\", element=\"f.5F1219E50C14FE963A5C8CD9B2B8040F.d.F6D7EC24992471CC177ECF1D3AD4B8E3.e.118\")>]"
      ]
     },
     "execution_count": 80,
     "metadata": {},
     "output_type": "execute_result"
    }
   ],
   "source": [
    "total_guionistas.find_elements(\"css selector\",\"#__next > main > div > section.ipc-page-background.ipc-page-background--base.sc-afa4bed1-0.iMxoKo > section > div:nth-child(5) > section > section > div.sc-9a2a0028-4.eZLbYw > div.sc-9a2a0028-6.iMFgzR > div.sc-9a2a0028-11.cDzRCX > div.sc-70a366cc-2.bscNnP > div > ul > li:nth-child(2) > div > ul > li\")"
   ]
  },
  {
   "cell_type": "code",
   "execution_count": null,
   "metadata": {},
   "outputs": [],
   "source": [
    "driver = webdriver.Chrome() #Para Abrir chrome solo ejecutar once\n",
    "url_wunder = \"https://www.imdb.com/es-es/title/tt0115801/\"\n",
    "driver.get(url_wunder)\n",
    "#Maximizar ventana\n",
    "driver.maximize_window() \n",
    "select_cookies = WebDriverWait(driver,40).until(EC.presence_of_element_located(('xpath','//*[@id=\"sp_message_iframe_1165301\"]')))\n",
    "driver.switch_to.frame(select_cookies)\n",
    "try:\n",
    "    driver.find_element(\"css selector\", \"#notice > div.message-component.message-row.cta-buttons-container > div.message-component.message-column.cta-button-column.reject-column > button\").click()\n",
    "    print(\"Encontrado\")\n",
    "except:\n",
    "    print(\"AY MI CUQUI, no la encuentro\")\n",
    "\n",
    "\n",
    "#Encontremos cajita del input, enviamos el texto y presionamos TAB\n",
    "#driver.switch_to.default_content()\n",
    "\n",
    "driver.switch_to.default_content()\n",
    "sleep(5) \n",
    "driver.find_element('xpath','//*[@id=\"historySearch\"]').send_keys(\"Madrid, Madrid, España\")\n",
    "sleep(1)\n",
    "driver.find_element('xpath','//*[@id=\"historySearch\"]').send_keys(Keys.ENTER)\n",
    "sleep(5)\n",
    "# driver.find_element(\"css selector\",\"#dateSubmit\").click()\n",
    "driver.find_element(\"css selector\",\"#dateSubmit\").click()\n",
    "sleep(5)\n",
    "driver.find_element(\"css selector\",\"#inner-content > div.region-content-main > div.row > div:nth-child(1) > div:nth-child(1) > div > lib-link-selector > div > div > div > a:nth-child(3)\").click()"
   ]
  }
 ],
 "metadata": {
  "kernelspec": {
   "display_name": "Hackio-prueba-tecnica",
   "language": "python",
   "name": "python3"
  },
  "language_info": {
   "codemirror_mode": {
    "name": "ipython",
    "version": 3
   },
   "file_extension": ".py",
   "mimetype": "text/x-python",
   "name": "python",
   "nbconvert_exporter": "python",
   "pygments_lexer": "ipython3",
   "version": "3.11.9"
  }
 },
 "nbformat": 4,
 "nbformat_minor": 2
}
