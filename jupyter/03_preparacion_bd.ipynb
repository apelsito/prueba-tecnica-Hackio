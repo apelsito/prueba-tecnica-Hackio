{
 "cells": [
  {
   "cell_type": "code",
   "execution_count": 58,
   "metadata": {},
   "outputs": [],
   "source": [
    "# Importación de librerías necesarias para el proyecto\n",
    "\n",
    "# Conexión y manejo de bases de datos PostgreSQL\n",
    "# -----------------------------------------------------------------------\n",
    "import psycopg2                                 # Conexión con bases de datos PostgreSQL\n",
    "from psycopg2 import OperationalError, errorcodes, errors  # Manejo de errores específicos de psycopg2\n",
    "\n",
    "# Manipulación de fechas y tiempos\n",
    "# -----------------------------------------------------------------------\n",
    "import datetime                                 # Manipulación de fechas y tiempos\n",
    "\n",
    "# Manipulación de DataFrames y variables de entorno\n",
    "# -----------------------------------------------------------------------\n",
    "import pandas as pd                             # Manipulación y análisis de datos en estructuras DataFrame\n",
    "import dotenv                                   # Manejo de variables de entorno (.env)\n",
    "import os                                       # Interacción con el sistema operativo (lectura de variables de entorno)\n",
    "from datetime import datetime                   # Importación específica de datetime para facilitar manejo de fechas\n",
    "\n",
    "# Importación de módulos desde rutas recursivas\n",
    "# -----------------------------------------------------------------------\n",
    "import sys\n",
    "sys.path.append(\"../\")                          # Añadir rutas externas para importar módulos desde carpetas superiores\n",
    "from src.SupportDB import (\n",
    "    conectarse_a_bd,\n",
    "    modificar_bd,\n",
    "    insertar_muchos_datos_bd,\n",
    "    generar_tupla\n",
    ")                                              # Funciones de soporte para manipulación y modificación en la base de datos\n"
   ]
  },
  {
   "cell_type": "markdown",
   "metadata": {},
   "source": [
    "# Ver datos\n"
   ]
  },
  {
   "cell_type": "code",
   "execution_count": 59,
   "metadata": {},
   "outputs": [],
   "source": [
    "detalles_artista = pd.read_csv(\"../datos/detalles_artistas.csv\")\n",
    "detalles_peliculas = pd.read_csv(\"../datos/detalles_peliculas.csv\")\n",
    "pelicula_artista = pd.read_csv(\"../datos/pelicula_artista.csv\")\n",
    "peliculas = pd.read_csv(\"../datos/peliculas.csv\")\n"
   ]
  },
  {
   "cell_type": "code",
   "execution_count": 60,
   "metadata": {},
   "outputs": [
    {
     "data": {
      "text/html": [
       "<div>\n",
       "<style scoped>\n",
       "    .dataframe tbody tr th:only-of-type {\n",
       "        vertical-align: middle;\n",
       "    }\n",
       "\n",
       "    .dataframe tbody tr th {\n",
       "        vertical-align: top;\n",
       "    }\n",
       "\n",
       "    .dataframe thead th {\n",
       "        text-align: right;\n",
       "    }\n",
       "</style>\n",
       "<table border=\"1\" class=\"dataframe\">\n",
       "  <thead>\n",
       "    <tr style=\"text-align: right;\">\n",
       "      <th></th>\n",
       "      <th>actr</th>\n",
       "      <th>año_nac</th>\n",
       "      <th>conocido_por</th>\n",
       "      <th>que_hace</th>\n",
       "      <th>premios</th>\n",
       "    </tr>\n",
       "  </thead>\n",
       "  <tbody>\n",
       "    <tr>\n",
       "      <th>7753</th>\n",
       "      <td>Rhoads Osbourne</td>\n",
       "      <td>1963</td>\n",
       "      <td>'Hail, Caesar!', '10 Cent Pistol', 'Between Bu...</td>\n",
       "      <td>Actor, Editor, Producer</td>\n",
       "      <td>no tiene premios</td>\n",
       "    </tr>\n",
       "  </tbody>\n",
       "</table>\n",
       "</div>"
      ],
      "text/plain": [
       "                 actr  año_nac  \\\n",
       "7753  Rhoads Osbourne     1963   \n",
       "\n",
       "                                           conocido_por  \\\n",
       "7753  'Hail, Caesar!', '10 Cent Pistol', 'Between Bu...   \n",
       "\n",
       "                     que_hace           premios  \n",
       "7753  Actor, Editor, Producer  no tiene premios  "
      ]
     },
     "execution_count": 60,
     "metadata": {},
     "output_type": "execute_result"
    }
   ],
   "source": [
    "detalles_artista.sample()"
   ]
  },
  {
   "cell_type": "code",
   "execution_count": 61,
   "metadata": {},
   "outputs": [
    {
     "data": {
      "text/html": [
       "<div>\n",
       "<style scoped>\n",
       "    .dataframe tbody tr th:only-of-type {\n",
       "        vertical-align: middle;\n",
       "    }\n",
       "\n",
       "    .dataframe tbody tr th {\n",
       "        vertical-align: top;\n",
       "    }\n",
       "\n",
       "    .dataframe thead th {\n",
       "        text-align: right;\n",
       "    }\n",
       "</style>\n",
       "<table border=\"1\" class=\"dataframe\">\n",
       "  <thead>\n",
       "    <tr style=\"text-align: right;\">\n",
       "      <th></th>\n",
       "      <th>titulo</th>\n",
       "      <th>cali_imdb</th>\n",
       "      <th>direc_imbd</th>\n",
       "      <th>guion_imbd</th>\n",
       "      <th>argum_imbd</th>\n",
       "      <th>durac_imbd</th>\n",
       "      <th>id_pelicula</th>\n",
       "    </tr>\n",
       "  </thead>\n",
       "  <tbody>\n",
       "    <tr>\n",
       "      <th>1432</th>\n",
       "      <td>Cecily and Lydia at the Waypoint</td>\n",
       "      <td>NaN</td>\n",
       "      <td>Juliette Strangio</td>\n",
       "      <td>Christina Shaver</td>\n",
       "      <td>On a lush, but lonely earth, Cecily walks. Alo...</td>\n",
       "      <td>1h 15min</td>\n",
       "      <td>tt12064142</td>\n",
       "    </tr>\n",
       "  </tbody>\n",
       "</table>\n",
       "</div>"
      ],
      "text/plain": [
       "                                titulo  cali_imdb         direc_imbd  \\\n",
       "1432  Cecily and Lydia at the Waypoint        NaN  Juliette Strangio   \n",
       "\n",
       "            guion_imbd                                         argum_imbd  \\\n",
       "1432  Christina Shaver  On a lush, but lonely earth, Cecily walks. Alo...   \n",
       "\n",
       "     durac_imbd id_pelicula  \n",
       "1432   1h 15min  tt12064142  "
      ]
     },
     "execution_count": 61,
     "metadata": {},
     "output_type": "execute_result"
    }
   ],
   "source": [
    "detalles_peliculas.sample()"
   ]
  },
  {
   "cell_type": "code",
   "execution_count": 62,
   "metadata": {},
   "outputs": [
    {
     "data": {
      "text/html": [
       "<div>\n",
       "<style scoped>\n",
       "    .dataframe tbody tr th:only-of-type {\n",
       "        vertical-align: middle;\n",
       "    }\n",
       "\n",
       "    .dataframe tbody tr th {\n",
       "        vertical-align: top;\n",
       "    }\n",
       "\n",
       "    .dataframe thead th {\n",
       "        text-align: right;\n",
       "    }\n",
       "</style>\n",
       "<table border=\"1\" class=\"dataframe\">\n",
       "  <thead>\n",
       "    <tr style=\"text-align: right;\">\n",
       "      <th></th>\n",
       "      <th>Movie ID</th>\n",
       "      <th>Actriz_Actor</th>\n",
       "    </tr>\n",
       "  </thead>\n",
       "  <tbody>\n",
       "    <tr>\n",
       "      <th>9242</th>\n",
       "      <td>tt0455988</td>\n",
       "      <td>Brian Geraghty</td>\n",
       "    </tr>\n",
       "  </tbody>\n",
       "</table>\n",
       "</div>"
      ],
      "text/plain": [
       "       Movie ID    Actriz_Actor\n",
       "9242  tt0455988  Brian Geraghty"
      ]
     },
     "execution_count": 62,
     "metadata": {},
     "output_type": "execute_result"
    }
   ],
   "source": [
    "pelicula_artista.sample()"
   ]
  },
  {
   "cell_type": "code",
   "execution_count": 63,
   "metadata": {},
   "outputs": [
    {
     "data": {
      "text/html": [
       "<div>\n",
       "<style scoped>\n",
       "    .dataframe tbody tr th:only-of-type {\n",
       "        vertical-align: middle;\n",
       "    }\n",
       "\n",
       "    .dataframe tbody tr th {\n",
       "        vertical-align: top;\n",
       "    }\n",
       "\n",
       "    .dataframe thead th {\n",
       "        text-align: right;\n",
       "    }\n",
       "</style>\n",
       "<table border=\"1\" class=\"dataframe\">\n",
       "  <thead>\n",
       "    <tr style=\"text-align: right;\">\n",
       "      <th></th>\n",
       "      <th>Tipo</th>\n",
       "      <th>Titulo</th>\n",
       "      <th>Año</th>\n",
       "      <th>Mes</th>\n",
       "      <th>Id</th>\n",
       "      <th>generos</th>\n",
       "    </tr>\n",
       "  </thead>\n",
       "  <tbody>\n",
       "    <tr>\n",
       "      <th>21</th>\n",
       "      <td>Movie</td>\n",
       "      <td>Kôshoku kunoichi ninpô-chô: Vâjin sunaipâ - bi...</td>\n",
       "      <td>1997</td>\n",
       "      <td>10</td>\n",
       "      <td>tt0288305</td>\n",
       "      <td>Action</td>\n",
       "    </tr>\n",
       "  </tbody>\n",
       "</table>\n",
       "</div>"
      ],
      "text/plain": [
       "     Tipo                                             Titulo   Año  Mes  \\\n",
       "21  Movie  Kôshoku kunoichi ninpô-chô: Vâjin sunaipâ - bi...  1997   10   \n",
       "\n",
       "           Id generos  \n",
       "21  tt0288305  Action  "
      ]
     },
     "execution_count": 63,
     "metadata": {},
     "output_type": "execute_result"
    }
   ],
   "source": [
    "peliculas.sample()"
   ]
  },
  {
   "cell_type": "markdown",
   "metadata": {},
   "source": [
    "### Unimos detalles artista con pelicula artista"
   ]
  },
  {
   "cell_type": "code",
   "execution_count": 64,
   "metadata": {},
   "outputs": [],
   "source": [
    "pelicula_artista = pelicula_artista.rename(columns={\"Actriz_Actor\":\"actr\"})\n",
    "pelicula_artista[\"actr\"] = pelicula_artista[\"actr\"].str.lower()\n",
    "detalles_artista[\"actr\"] = detalles_artista[\"actr\"].str.lower()\n",
    "peli_artista = pd.merge(pelicula_artista,detalles_artista,on=\"actr\",how=\"left\")"
   ]
  },
  {
   "cell_type": "code",
   "execution_count": 73,
   "metadata": {},
   "outputs": [],
   "source": [
    "peli_artista.dropna(inplace=True)"
   ]
  },
  {
   "cell_type": "code",
   "execution_count": 75,
   "metadata": {},
   "outputs": [
    {
     "name": "stdout",
     "output_type": "stream",
     "text": [
      "<class 'pandas.core.frame.DataFrame'>\n",
      "Index: 14527 entries, 0 to 14528\n",
      "Data columns (total 6 columns):\n",
      " #   Column        Non-Null Count  Dtype  \n",
      "---  ------        --------------  -----  \n",
      " 0   Movie ID      14527 non-null  object \n",
      " 1   actr          14527 non-null  object \n",
      " 2   año_nac       14527 non-null  float64\n",
      " 3   conocido_por  14527 non-null  object \n",
      " 4   que_hace      14527 non-null  object \n",
      " 5   premios       14527 non-null  object \n",
      "dtypes: float64(1), object(5)\n",
      "memory usage: 794.4+ KB\n"
     ]
    }
   ],
   "source": [
    "peli_artista.info()"
   ]
  },
  {
   "cell_type": "code",
   "execution_count": 80,
   "metadata": {},
   "outputs": [
    {
     "data": {
      "text/html": [
       "<div>\n",
       "<style scoped>\n",
       "    .dataframe tbody tr th:only-of-type {\n",
       "        vertical-align: middle;\n",
       "    }\n",
       "\n",
       "    .dataframe tbody tr th {\n",
       "        vertical-align: top;\n",
       "    }\n",
       "\n",
       "    .dataframe thead th {\n",
       "        text-align: right;\n",
       "    }\n",
       "</style>\n",
       "<table border=\"1\" class=\"dataframe\">\n",
       "  <thead>\n",
       "    <tr style=\"text-align: right;\">\n",
       "      <th></th>\n",
       "      <th>Movie ID</th>\n",
       "      <th>actr</th>\n",
       "      <th>año_nac</th>\n",
       "      <th>conocido_por</th>\n",
       "      <th>que_hace</th>\n",
       "      <th>premios</th>\n",
       "    </tr>\n",
       "  </thead>\n",
       "  <tbody>\n",
       "    <tr>\n",
       "      <th>2962</th>\n",
       "      <td>tt0272093</td>\n",
       "      <td>valérie donzelli</td>\n",
       "      <td>1973</td>\n",
       "      <td>'Declaration of War', 'The Queen of Hearts', '...</td>\n",
       "      <td>Stunts, Actor, Producer</td>\n",
       "      <td>1 win</td>\n",
       "    </tr>\n",
       "  </tbody>\n",
       "</table>\n",
       "</div>"
      ],
      "text/plain": [
       "       Movie ID              actr  año_nac  \\\n",
       "2962  tt0272093  valérie donzelli     1973   \n",
       "\n",
       "                                           conocido_por  \\\n",
       "2962  'Declaration of War', 'The Queen of Hearts', '...   \n",
       "\n",
       "                     que_hace premios  \n",
       "2962  Stunts, Actor, Producer   1 win  "
      ]
     },
     "execution_count": 80,
     "metadata": {},
     "output_type": "execute_result"
    }
   ],
   "source": [
    "peli_artista[\"año_nac\"] = peli_artista[\"año_nac\"].astype(int)\n",
    "peli_artista.sample()"
   ]
  },
  {
   "cell_type": "code",
   "execution_count": 78,
   "metadata": {},
   "outputs": [
    {
     "data": {
      "text/plain": [
       "np.int64(3298)"
      ]
     },
     "execution_count": 78,
     "metadata": {},
     "output_type": "execute_result"
    }
   ],
   "source": [
    "peli_artista.duplicated().sum()"
   ]
  },
  {
   "cell_type": "code",
   "execution_count": 66,
   "metadata": {},
   "outputs": [],
   "source": [
    "key = os.getenv(\"sql\")\n",
    "user = \"postgres\"\n",
    "db = \"prueba_tecnica\""
   ]
  },
  {
   "cell_type": "code",
   "execution_count": 67,
   "metadata": {},
   "outputs": [
    {
     "name": "stdout",
     "output_type": "stream",
     "text": [
      "Conectado a la base de datos: prueba_tecnica\n"
     ]
    }
   ],
   "source": [
    "conexion = conectarse_a_bd(db,user,key)\n",
    "cursor = conexion.cursor()"
   ]
  },
  {
   "cell_type": "code",
   "execution_count": null,
   "metadata": {},
   "outputs": [],
   "source": []
  },
  {
   "cell_type": "markdown",
   "metadata": {},
   "source": [
    "# T"
   ]
  },
  {
   "cell_type": "code",
   "execution_count": 68,
   "metadata": {},
   "outputs": [],
   "source": [
    "# conexion = conectarse_a_bd(db,user,key)\n",
    "# query = '''CREATE TABLE IF NOT EXISTS supermercados (\n",
    "#             id_supermercado SERIAL PRIMARY KEY,\n",
    "#             supermercado VARCHAR(100) NOT NULL);'''\n",
    "# modificar_bd(conexion,query)"
   ]
  }
 ],
 "metadata": {
  "kernelspec": {
   "display_name": "Hackio-prueba-tecnica",
   "language": "python",
   "name": "python3"
  },
  "language_info": {
   "codemirror_mode": {
    "name": "ipython",
    "version": 3
   },
   "file_extension": ".py",
   "mimetype": "text/x-python",
   "name": "python",
   "nbconvert_exporter": "python",
   "pygments_lexer": "ipython3",
   "version": "3.11.9"
  }
 },
 "nbformat": 4,
 "nbformat_minor": 2
}
